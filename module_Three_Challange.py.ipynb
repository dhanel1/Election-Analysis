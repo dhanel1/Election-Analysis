{
 "cells": [
  {
   "cell_type": "code",
   "execution_count": 1,
   "metadata": {},
   "outputs": [],
   "source": [
    "# -*- coding: UTF-8 -*-\n",
    "\"\"\"PyPoll Homework Challenge Solution.\"\"\"\n",
    "\n",
    "# Add our dependencies.\n",
    "import csv\n",
    "import os\n",
    "\n",
    "# Add a variable to load a file from a path.\n",
    "file_to_load = os.path.join(r\"C:\\Users\\DLH\\Documents\\Pypoll analysis folder\\election_results.csv\")\n",
    "# Add a variable to save the file to a path.\n",
    "file_to_save = os.path.join(\"analysis\", \"election_analysis.txt\")\n",
    "\n",
    "# Initialize a total vote counter.\n",
    "total_votes = 0\n",
    "\n",
    "# Candidate Options and candidate votes.\n",
    "candidate_options = []\n",
    "candidate_votes = {}\n",
    "county_votes = {}\n",
    "\n",
    "# 1: Create a county list and county votes dictionary.\n",
    "county_list = []\n",
    "\n",
    "# Track the winning candidate, vote count and percentage\n",
    "highest_county = \"\"\n",
    "highest_votes = 0\n",
    "winning_candidate = \"\"\n",
    "winning_count = 0\n",
    "winning_percentage = 0"
   ]
  },
  {
   "cell_type": "code",
   "execution_count": 2,
   "metadata": {},
   "outputs": [],
   "source": [
    "# 2: Track the largest county and county voter turnout.\n",
    "with open(file_to_load) as election_data:\n",
    "    file_reader = csv.reader(election_data)\n",
    "    # Read the header row.\n",
    "    headers = next(file_reader)\n",
    "    # Print each row in the CSV file.\n",
    "    for row in file_reader:\n",
    "        # Add to the total vote count.\n",
    "        total_votes += 1\n",
    "        # Get the candidate name from each row.\n",
    "        candidate_name = row[2]\n",
    "        # Get the county name from each row.\n",
    "        county_name = row[1]\n",
    "        # If the candidate does not match any existing candidate add it the\n",
    "        # the candidate list.\n",
    "        if candidate_name not in candidate_options:\n",
    "            # Add the candidate name to the candidate list.\n",
    "            candidate_options.append(candidate_name)\n",
    "            # And begin tracking that candidate's voter count.\n",
    "            candidate_votes[candidate_name] = 0\n",
    "        # Add a vote to that candidate's count\n",
    "        candidate_votes[candidate_name] += 1\n",
    "        # If the county does not match any existing county add it the\n",
    "        # the county list.\n",
    "        if county_name not in county_list:\n",
    "            # Add the county name to the county list.\n",
    "            county_list.append(county_name)\n",
    "            # And begin tracking that county's voter count.\n",
    "            county_votes[county_name] = 0\n",
    "        # Add a vote to that county's count\n",
    "        county_votes[county_name] += 1"
   ]
  },
  {
   "cell_type": "code",
   "execution_count": 3,
   "metadata": {},
   "outputs": [
    {
     "name": "stdout",
     "output_type": "stream",
     "text": [
      "{'Charles Casper Stockham': 85213, 'Diana DeGette': 272892, 'Raymon Anthony Doane': 11606}\n",
      "{'Jefferson': 38855, 'Denver': 306055, 'Arapahoe': 24801}\n"
     ]
    }
   ],
   "source": [
    "print(candidate_votes)\n",
    "print(county_votes)"
   ]
  },
  {
   "cell_type": "code",
   "execution_count": 4,
   "metadata": {},
   "outputs": [
    {
     "name": "stdout",
     "output_type": "stream",
     "text": [
      "County: Jefferson, Vote Percentage: 10.509560169970598, Vote Total: 38855\n",
      "County: Denver, Vote Percentage: 82.78222719908253, Vote Total: 306055\n",
      "County: Arapahoe, Vote Percentage: 6.708212630946875, Vote Total: 24801\n"
     ]
    }
   ],
   "source": [
    "# 6a: Write a repetition statement to get the county from the county dictionary.\n",
    "total_votes = sum(county_votes.values())\n",
    "for county in county_votes:\n",
    "    # 6b: Retrieve the county vote count.\n",
    "    votes = county_votes[county]\n",
    "    # 6c: Calculate the percent of total votes for the county.\n",
    "    vote_percentage = (float(votes) / float(total_votes)) * 100\n",
    "    # 6d: Print county, percentage of total votes, and total votes\n",
    "    print(\"County: \" + county + \", Vote Percentage: \"\n",
    "          + str(vote_percentage) + \", Vote Total: \" + str(votes))\n",
    "    # 6f: Determine county with largest vote count\n",
    "    if (votes > highest_votes):\n",
    "        highest_county = county\n",
    "        highest_votes = votes"
   ]
  },
  {
   "cell_type": "code",
   "execution_count": 5,
   "metadata": {},
   "outputs": [
    {
     "name": "stdout",
     "output_type": "stream",
     "text": [
      "Largest County Turnout: Denver\n"
     ]
    }
   ],
   "source": [
    "print(\"Largest County Turnout: \" + highest_county)"
   ]
  },
  {
   "cell_type": "code",
   "execution_count": 6,
   "metadata": {},
   "outputs": [
    {
     "name": "stdout",
     "output_type": "stream",
     "text": [
      "Candidate: Charles Casper Stockham, Vote Percentage: 23.04854332167558, Vote Total: 85213\n",
      "Candidate: Diana DeGette, Vote Percentage: 73.81224794501652, Vote Total: 272892\n",
      "Candidate: Raymon Anthony Doane, Vote Percentage: 3.1392087333079077, Vote Total: 11606\n"
     ]
    }
   ],
   "source": [
    "# 6a: Write a repetition statement to get the county from the county dictionary.\n",
    "total_votes = sum(candidate_votes.values())\n",
    "for candidate in candidate_votes:\n",
    "    # 6b: Retrieve the county vote count.\n",
    "    votes = candidate_votes[candidate]\n",
    "    # 6c: Calculate the percent of total votes for the county.\n",
    "    vote_percentage = (float(votes) / float(total_votes)) * 100\n",
    "    # 6d: Print county, percentage of total votes, and total votes\n",
    "    print(\"Candidate: \" + candidate + \", Vote Percentage: \"\n",
    "          + str(vote_percentage) + \", Vote Total: \" + str(votes))\n",
    "    # 6f: Determine county with largest vote count\n",
    "    if (votes > winning_count):\n",
    "        winning_candidate = candidate\n",
    "        winning_count = votes\n",
    "        winning_percentage = vote_percentage"
   ]
  },
  {
   "cell_type": "code",
   "execution_count": 8,
   "metadata": {},
   "outputs": [
    {
     "name": "stdout",
     "output_type": "stream",
     "text": [
      "Winner: Diana DeGette\n",
      "Winning Vote Count: 272892\n",
      "Winning Percentage: 73.81224794501652\n"
     ]
    }
   ],
   "source": [
    "print(\"Winner: \" + winning_candidate)\n",
    "print(\"Winning Vote Count: \" + str(winning_count))\n",
    "print(\"Winning Percentage: \" + str(winning_percentage))"
   ]
  },
  {
   "cell_type": "code",
   "execution_count": null,
   "metadata": {},
   "outputs": [],
   "source": []
  }
 ],
 "metadata": {
  "kernelspec": {
   "display_name": "Python 3",
   "language": "python",
   "name": "python3"
  },
  "language_info": {
   "codemirror_mode": {
    "name": "ipython",
    "version": 3
   },
   "file_extension": ".py",
   "mimetype": "text/x-python",
   "name": "python",
   "nbconvert_exporter": "python",
   "pygments_lexer": "ipython3",
   "version": "3.8.3"
  }
 },
 "nbformat": 4,
 "nbformat_minor": 4
}
